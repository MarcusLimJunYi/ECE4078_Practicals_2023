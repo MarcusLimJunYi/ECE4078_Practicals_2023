{
 "cells": [
  {
   "cell_type": "markdown",
   "metadata": {
    "cell_id": "488030e31dec46b6a9fe5ea407f78e33",
    "deepnote_cell_height": 218.60000610351562,
    "deepnote_cell_type": "markdown",
    "owner_user_id": "8979978f-05a8-4af3-84d3-b89b8c07f6ef",
    "tags": []
   },
   "source": [
    "# Practical 1: Position and Orientation\n",
    "\n",
    "You may also find these commands useful when using the notebook:\n",
    "- \"Ctrl\" + \"/\" to comment/uncomment\n",
    "- \"Shift\" + \"Enter\" to run the block\n",
    "\n",
    "In the following code blocks, we will import dependencies and initialize our visualizer"
   ]
  },
  {
   "cell_type": "code",
   "execution_count": null,
   "metadata": {
    "cell_id": "c2221c24676f4c3580b65122f528444d",
    "deepnote_cell_height": 225,
    "deepnote_cell_type": "code",
    "deepnote_to_be_reexecuted": false,
    "execution_millis": 1197,
    "execution_start": 1658299058017,
    "source_hash": "268c64bb",
    "tags": []
   },
   "outputs": [],
   "source": [
    "import ipywidgets as widgets\n",
    "import numpy as np\n",
    "# from Practical01_Support.NotebookChecker import NotebookChecker\n",
    "\n",
    "import meshcat\n",
    "import meshcat.geometry as g\n",
    "import meshcat.transformations as tf\n",
    "\n",
    "from ece4078.Utility import StartMeshcat\n",
    "from ece4078.NotebookChecker import NotebookChecker"
   ]
  },
  {
   "cell_type": "code",
   "execution_count": null,
   "metadata": {
    "cell_id": "905d7ef579e44f49998a612d80d96d7a",
    "deepnote_cell_height": 81,
    "deepnote_cell_type": "code",
    "deepnote_to_be_reexecuted": false,
    "execution_millis": 772,
    "execution_start": 1658299061899,
    "source_hash": "34afddb1",
    "tags": []
   },
   "outputs": [],
   "source": [
    "vis = StartMeshcat()"
   ]
  },
  {
   "cell_type": "markdown",
   "metadata": {
    "cell_id": "68e49ed601594cc9ae56845183e4466e",
    "deepnote_cell_height": 161.60000610351562,
    "deepnote_cell_type": "markdown",
    "tags": []
   },
   "source": [
    "Testing the Notebook First\n",
    "\n",
    "To make sure that your notebook instance has been created correctly, please execute the code below.\n",
    "\n",
    "You should see the plot change as you move the slider.\n",
    "\n",
    "**FLUX Question**: What is the phrase shown when Omega ($\\omega$) =10 at the end?"
   ]
  },
  {
   "cell_type": "code",
   "execution_count": null,
   "metadata": {
    "cell_id": "de6af501254146e79f61980244ada7c1",
    "deepnote_cell_height": 153,
    "deepnote_cell_type": "code",
    "deepnote_to_be_reexecuted": false,
    "execution_millis": 462,
    "execution_start": 1658299065318,
    "source_hash": "81e6c955",
    "tags": []
   },
   "outputs": [],
   "source": [
    "vis.delete()\n",
    "scale = 0.75\n",
    "vis.setPNGView(scale, center = [0.75*scale * lim for lim in [-2, 1, 1, -1]])\n",
    "notebook_plot, w_slider = NotebookChecker(vis)\n",
    "display(w_slider, notebook_plot)\n",
    "display(vis.show_inline())"
   ]
  },
  {
   "cell_type": "markdown",
   "metadata": {
    "cell_id": "220dbd17095440cb9f5a8561265231e7",
    "deepnote_cell_height": 331.066650390625,
    "deepnote_cell_type": "markdown",
    "tags": []
   },
   "source": [
    "## 1. Rotations in 2D\n",
    "\n",
    "We define a 2D coordinate frame to represent our robot $(\\boldsymbol{x}_1, \\boldsymbol{y}_1)$ with respect to the world frame $(\\boldsymbol{x}_0, \\boldsymbol{y}_0)$. \n",
    "\n",
    "Given an angle $\\theta$, we describe the relation between the world and robot's frames using the following rotation matrix $R_{01} = \\begin{bmatrix}\\cos\\theta & -\\sin\\theta \\\\\\sin\\theta & \\cos\\theta \\end{bmatrix}$.\n",
    "\n",
    "Below we show how the robot's frame (green and red arrows) changes relative to the world frame (black) as the angle $\\theta$ increases or decreases.\n",
    "\n",
    "**Interaction**:\n",
    "- Move the slider to change the rotation angle around the origin"
   ]
  },
  {
   "cell_type": "code",
   "execution_count": null,
   "metadata": {
    "cell_id": "4ba789caa9ee40c898c4bf71425f0470",
    "deepnote_cell_height": 436,
    "deepnote_cell_type": "code",
    "deepnote_to_be_reexecuted": false,
    "execution_millis": 44,
    "execution_start": 1658297526906,
    "source_hash": "8de469dc",
    "tags": []
   },
   "outputs": [],
   "source": [
    "size = 10\n",
    "\n",
    "vis.delete()\n",
    "vis.Set2DView(scale = size, center = [0.75*size * lim for lim in [-2, 1, 1, -1]])\n",
    "\n",
    "vis[\"rotated_frame\"].set_object(g.triad(size/2))\n",
    "vis[\"original_frame\"].set_object(g.triad(size/2))\n",
    "def f(theta):\n",
    "    a = np.array([[np.cos(theta), -np.sin(theta)], [np.sin(theta), np.cos(theta)]])\n",
    "    vis.printMatrix(a, size)\n",
    "    M = np.identity(4)\n",
    "    M[:2, :2] = a\n",
    "    vis[\"rotated_frame\"].set_transform(M)\n",
    "    return M\n",
    "\n",
    "slider = widgets.FloatSlider(value=0, min=-2*np.pi, max=2*np.pi, step=0.01, description='Theta',\n",
    "                                                continuous_update=True)\n",
    "interactive_plot = widgets.interactive_output(f, {'theta': slider})\n",
    "display(slider, interactive_plot)\n",
    "display(vis.show_inline())"
   ]
  },
  {
   "cell_type": "markdown",
   "metadata": {
    "cell_id": "3a9da3d71c0440479c01cf363114d877",
    "deepnote_cell_height": 430.183349609375,
    "deepnote_cell_type": "markdown",
    "deepnote_to_be_reexecuted": false,
    "execution_millis": 4,
    "execution_start": 1656061732025,
    "source_hash": "3d2eb12d",
    "tags": []
   },
   "source": [
    "## 2. Rotations in 3D\n",
    "\n",
    "Let us now extend the definition of rotations to a 3-dimensional world.\n",
    "\n",
    "Recall that\n",
    "\n",
    "$$R_{x}(\\theta) = \\begin{bmatrix}1 & 0 & 0 \\\\ 0 & \\cos\\theta & -\\sin\\theta \\\\ 0 & \\sin\\theta & \\cos\\theta \\end{bmatrix}, R_{y}(\\theta) = \\begin{bmatrix} \\cos\\theta & 0 & \\sin\\theta \\\\ 0 & 1 & 0 \\\\ -\\sin\\theta & 0 & \\cos\\theta \\end{bmatrix} R_{z}(\\theta) = \\begin{bmatrix}\\cos\\theta & -\\sin\\theta & 0 \\\\ \\sin\\theta & \\cos\\theta & 0 \\\\ 0 & 0 & 1 \\end{bmatrix}$$\n",
    "\n",
    "**Interaction**:\n",
    "- Move the sliders to change the rotation angle around each axis\n",
    "- Click on a button to change the composition order of the rotation matrices\n",
    "\n",
    "**TO DO**:\n",
    "- Complete the definition of $R_y(\\theta)$\n",
    "- Implement the $x$-$z$-$y$ and $z$-$x$-$y$ rotation orders"
   ]
  },
  {
   "cell_type": "code",
   "execution_count": null,
   "metadata": {
    "cell_id": "4e2b486f411c4390b3ee39fb50b4959f",
    "deepnote_cell_height": 657,
    "deepnote_cell_type": "code",
    "deepnote_to_be_reexecuted": false,
    "execution_millis": 3,
    "execution_start": 1658297538758,
    "owner_user_id": "39e5588c-373b-434e-8bfa-8e48976ef92a",
    "source_hash": "ffdd1f04",
    "tags": []
   },
   "outputs": [],
   "source": [
    "def rotate3D(mode, theta_x, theta_y, theta_z):  \n",
    "        \n",
    "    rot_x = np.identity(3)\n",
    "    rot_y = np.identity(3)\n",
    "    rot_z = np.identity(3)\n",
    "    \n",
    "    rot_x[1:, 1:] = [[np.cos(theta_x), -np.sin(theta_x)],\n",
    "                     [np.sin(theta_x), np.cos(theta_x)]]        \n",
    "    rot_z[0:2, 0:2] = [[np.cos(theta_z), -np.sin(theta_z)],\n",
    "                      [np.sin(theta_z), np.cos(theta_z)]]\n",
    "    \n",
    "    #TODO: Update rot_y ---------------------------------------------\n",
    "    rot_y[0, :] = [1, 0, 0]\n",
    "    rot_y[2, :] = [0, 0, 1]\n",
    "    #ENDTODO ---------------------------------------------\n",
    "    \n",
    "    rot_mat = np.identity(3)\n",
    "    if mode == 'x-z-y':\n",
    "    #TODO: Complete rotation order x-z-y ----------------------------\n",
    "        rot_mat = np.eye(3)\n",
    "    #ENDTODO\n",
    "    elif mode == 'z-x-y':\n",
    "    #TODO: Complete rotation order z-x-y-----------------------------\n",
    "        rot_mat = np.eye(3)\n",
    "    #ENDTODO\n",
    "    else:\n",
    "        rot_mat = rot_x @ rot_z @ rot_y\n",
    "\n",
    "    M = np.identity(4)\n",
    "    M[:3, :3] = rot_mat\n",
    "    print_pos = tf.rotation_matrix(np.pi/2, [0,0,1]) @ tf.translation_matrix([-6, -1, 0])\n",
    "    vis.printMatrix(rot_mat, 10, print_pos)\n",
    "    vis[\"rotated_frame\"].set_transform(M)"
   ]
  },
  {
   "cell_type": "code",
   "execution_count": null,
   "metadata": {
    "cell_id": "d9eecb36cfd74ef1a96558ebb4d71265",
    "deepnote_cell_height": 454,
    "deepnote_cell_type": "code",
    "deepnote_to_be_reexecuted": false,
    "execution_millis": 72,
    "execution_start": 1658297546323,
    "source_hash": "bdface24",
    "tags": []
   },
   "outputs": [],
   "source": [
    "vis.delete()\n",
    "vis.Set3DView(pos = [5.0, 3.0, -3.0])\n",
    "length = 1\n",
    "vis.add_thick_triad(\"rotated_frame\", length = length, opacity = 1.0) \n",
    "vis.add_thick_triad(\"original_frame\", length = length, opacity = 0.1) \n",
    "\n",
    "mode_btn = widgets.ToggleButtons(\n",
    "  options=['x-z-y', 'z-x-y', 'y-z-x'],\n",
    "  description='Transform:',\n",
    ")\n",
    "\n",
    "stepsize = 0.01\n",
    "\n",
    "sliders = []\n",
    "for axis in [\"x\", \"y\", \"z\"]:\n",
    "    sliders.append(widgets.FloatSlider(value=0, min=-2*np.pi, max=2*np.pi, \n",
    "    step=stepsize, description=f'theta_{axis}', continuous_update=True))\n",
    "widgets.interactive_output(rotate3D, {'mode': mode_btn, 'theta_x': sliders[0], \n",
    "                                                    'theta_y': sliders[1], 'theta_z': sliders[2]})\n",
    "display(mode_btn, *sliders)\n",
    "display(vis.show_inline())"
   ]
  },
  {
   "cell_type": "markdown",
   "metadata": {
    "cell_id": "a4c9e32dbbb346ce8908cdc6beb5c199",
    "deepnote_cell_height": 52.399993896484375,
    "deepnote_cell_type": "markdown",
    "tags": []
   },
   "source": [
    "**FLUX Question**: Are the rotations expressed in fixed or successive frame? "
   ]
  },
  {
   "cell_type": "markdown",
   "metadata": {
    "cell_id": "43ea0ba2e2e3459bb87b3f730b9663a4",
    "deepnote_cell_height": 454.26666259765625,
    "deepnote_cell_type": "markdown",
    "tags": []
   },
   "source": [
    "# 3. Homogeneous Transformations in 3D\n",
    "\n",
    "Let us now combine rotations and translations in a 3-dimensional world.\n",
    "\n",
    "Recall that $T_{01} = \\begin{vmatrix} R_{01} & \\boldsymbol{d}^0_1\\\\ 0 & 1\\end{vmatrix}$, where $R_{01}$ and $\\boldsymbol{d}^0_1$ correspond to the rotation and displacement of the robot frame, i.e, *frame 1*, relative to the world frame, i.e., *frame 0*.\n",
    "\n",
    "**Interaction**:\n",
    "- Use the button (i.e. x, y, z, transform) and the sliders to visualize the rotation and displacement of the robot frame relative to the corresponding axis in the world frame. Note: if x transform is selected, slider values not associated with x will reset.\n",
    "\n",
    "**TO DO**:\n",
    "- Complete the definition of $T_{01}$ along the $z$-axis"
   ]
  },
  {
   "cell_type": "code",
   "execution_count": null,
   "metadata": {
    "cell_id": "c9c0ae7cada7482c8e73e7aa91f91014",
    "deepnote_cell_height": 513,
    "deepnote_cell_type": "code",
    "deepnote_to_be_reexecuted": false,
    "execution_millis": 0,
    "execution_start": 1658297579316,
    "source_hash": "fbfd604",
    "tags": []
   },
   "outputs": [],
   "source": [
    "def transform3D (mode, theta_x, d_x, theta_y, d_y, theta_z, d_z):\n",
    "    trans = np.identity(4)\n",
    "    rot = np.identity(4)\n",
    "\n",
    "    if mode == 'x transform':\n",
    "        trans[0, -1] = d_x\n",
    "        rot[1:3, 1:3] = [[np.cos(theta_x), -np.sin(theta_x)],\n",
    "                            [np.sin(theta_x), np.cos(theta_x)]]\n",
    "    elif mode == 'y transform':\n",
    "        trans[1,-1] = d_y\n",
    "        rot[0, 0:3] = [np.cos(theta_y), 0, np.sin(theta_y)]\n",
    "        rot[2, 0:3] = [-np.sin(theta_y), 0, np.cos(theta_y)]\n",
    "    elif mode == 'z transform':\n",
    "        #TODO: Complete definition of z-axis homogeneous transform -----\n",
    "        pass\n",
    "        #ENDTODO\n",
    "    else:\n",
    "        return -1\n",
    "\n",
    "    homogeneous_transformation = rot @ trans\n",
    "    vis[\"rotated_frame\"].set_transform(homogeneous_transformation)\n",
    "    print_pos = tf.rotation_matrix(np.pi/2, [0,0,1]) @ tf.translation_matrix([-8, 1, 0])\n",
    "    vis.printMatrix(homogeneous_transformation, 10, print_pos)"
   ]
  },
  {
   "cell_type": "code",
   "execution_count": null,
   "metadata": {
    "cell_id": "de5c3210ece44fc9a5ef4c3f24148593",
    "deepnote_cell_height": 706,
    "deepnote_cell_type": "code",
    "deepnote_to_be_reexecuted": false,
    "execution_millis": 103,
    "execution_start": 1658297582092,
    "source_hash": "3e05ae7b",
    "tags": []
   },
   "outputs": [],
   "source": [
    "vis.delete()\n",
    "vis.Set3DView(pos = [5.0, 6.0, -3.0])\n",
    "\n",
    "length = 1.0\n",
    "vis.add_thick_triad(\"rotated_frame\", length = length, opacity = 1.0) \n",
    "vis.add_thick_triad(\"original_frame\", length = length, opacity = 0.1) \n",
    "\n",
    "mode_btn = widgets.ToggleButtons(\n",
    "  options=['x transform', 'y transform', 'z transform'],\n",
    "  description='Transform:',\n",
    ")\n",
    "\n",
    "stepsize = 0.01\n",
    "\n",
    "axes = ['x', 'y', 'z']\n",
    "prefixes = ['theta_', 'd_']\n",
    "sliders = []\n",
    "for axis in axes:\n",
    "    for prefix in prefixes:\n",
    "        sliders.append(widgets.FloatSlider(\n",
    "            value = 0, \n",
    "            min = -2 if prefix == 'd_' else -2*np.pi, \n",
    "            max = 2 if prefix == 'd_' else 2*np.pi,\n",
    "            step = stepsize,\n",
    "            description = prefix + axis,\n",
    "        ))\n",
    "\n",
    "widgets.interactive_output(transform3D, {'mode': mode_btn, 'theta_x': sliders[0], 'd_x': sliders[1],\n",
    "                                                'theta_y': sliders[2], 'd_y': sliders[3],\n",
    "                                                'theta_z': sliders[4], 'd_z': sliders[5]})\n",
    "display(mode_btn, *sliders)\n",
    "display(vis.show_inline())"
   ]
  }
 ],
 "metadata": {
  "deepnote": {},
  "deepnote_execution_queue": [],
  "deepnote_notebook_id": "d0257516-c81b-4049-9b98-e46a4351f2fa",
  "kernelspec": {
   "display_name": "Python 3 (ipykernel)",
   "language": "python",
   "name": "python3"
  },
  "language_info": {
   "codemirror_mode": {
    "name": "ipython",
    "version": 3
   },
   "file_extension": ".py",
   "mimetype": "text/x-python",
   "name": "python",
   "nbconvert_exporter": "python",
   "pygments_lexer": "ipython3",
   "version": "3.8.19"
  },
  "widgets": {
   "application/vnd.jupyter.widget-state+json": {
    "state": {
     "01ff5717ee3142f7b77a8613538ddc91": {
      "model_module": "@jupyter-widgets/controls",
      "model_module_version": "2.0.0",
      "model_name": "ToggleButtonsModel",
      "state": {
       "_options_labels": [
        "x transform",
        "y transform",
        "z transform"
       ],
       "button_style": "",
       "description": "Transform:",
       "icons": [],
       "index": 0,
       "layout": "IPY_MODEL_c1bba8b6ac0e4ba5a94e5747f6b414bb",
       "style": "IPY_MODEL_6888018a048e4f28ba9222439409c7c4",
       "tooltips": []
      }
     },
     "02bde9b826f04943950c91d7ecbdbbc9": {
      "model_module": "@jupyter-widgets/base",
      "model_module_version": "2.0.0",
      "model_name": "LayoutModel",
      "state": {}
     },
     "091c08bf9e4a4d7e9568ad843b6a963a": {
      "model_module": "@jupyter-widgets/controls",
      "model_module_version": "2.0.0",
      "model_name": "ToggleButtonsStyleModel",
      "state": {
       "button_width": "",
       "description_width": ""
      }
     },
     "09a6761dd399476f8bd87f0ad1f072d0": {
      "model_module": "@jupyter-widgets/controls",
      "model_module_version": "2.0.0",
      "model_name": "HTMLModel",
      "state": {
       "layout": "IPY_MODEL_130902d4c1be4d24a101d8ffe932d1fd",
       "style": "IPY_MODEL_de2e36b7973d49e498ae4ec5f5a4f107",
       "value": "\n                <div style=\"height: 400px; width: 100%; overflow-x: auto; overflow-y: hidden; resize: both\">\n                <iframe src=\"http://10.168.151.13:7003/static/\" style=\"width: 100%; height: 100%; border: none\"></iframe>\n                </div>\n                "
      }
     },
     "0da39c806292443db159588f9b877661": {
      "model_module": "@jupyter-widgets/base",
      "model_module_version": "2.0.0",
      "model_name": "LayoutModel",
      "state": {}
     },
     "1052094c8c6b48a49ba8c7a1026af37e": {
      "model_module": "@jupyter-widgets/base",
      "model_module_version": "2.0.0",
      "model_name": "LayoutModel",
      "state": {}
     },
     "116f6fdedcf94e6e9f2d1bc39684a2b4": {
      "model_module": "@jupyter-widgets/controls",
      "model_module_version": "2.0.0",
      "model_name": "FloatSliderModel",
      "state": {
       "behavior": "drag-tap",
       "description": "theta_x",
       "layout": "IPY_MODEL_5235adaf5ca0411e949e4d886178c01b",
       "max": 6.283185307179586,
       "min": -6.283185307179586,
       "step": 0.01,
       "style": "IPY_MODEL_dcf54a513118425291ff86df2657763e",
       "value": -0.0031853071795859833
      }
     },
     "12fddf508e8341d89abe1fed1d81410e": {
      "model_module": "@jupyter-widgets/base",
      "model_module_version": "2.0.0",
      "model_name": "LayoutModel",
      "state": {}
     },
     "130902d4c1be4d24a101d8ffe932d1fd": {
      "model_module": "@jupyter-widgets/base",
      "model_module_version": "2.0.0",
      "model_name": "LayoutModel",
      "state": {}
     },
     "14c6dfe9ec744e6bad6e41192e5c10fb": {
      "model_module": "@jupyter-widgets/controls",
      "model_module_version": "2.0.0",
      "model_name": "IntSliderModel",
      "state": {
       "behavior": "drag-tap",
       "continuous_update": false,
       "description": "Omega",
       "layout": "IPY_MODEL_94bcc8e6022c4eab89725005eb43177f",
       "max": 10,
       "style": "IPY_MODEL_242d128bccc3432293e4db17e9f01b3f"
      }
     },
     "19daa8565b27463892a982d07117d17b": {
      "model_module": "@jupyter-widgets/base",
      "model_module_version": "2.0.0",
      "model_name": "LayoutModel",
      "state": {}
     },
     "1ab80e2c93e44653a361fa7d64dd75ac": {
      "model_module": "@jupyter-widgets/base",
      "model_module_version": "2.0.0",
      "model_name": "LayoutModel",
      "state": {}
     },
     "1d34c285d6e74bb5a37b253c773104f0": {
      "model_module": "@jupyter-widgets/controls",
      "model_module_version": "2.0.0",
      "model_name": "ToggleButtonsModel",
      "state": {
       "_options_labels": [
        "x transform",
        "y transform",
        "z transform"
       ],
       "button_style": "",
       "description": "Transform:",
       "icons": [],
       "index": 0,
       "layout": "IPY_MODEL_97e0a30c4cee49e7ab4a8d961185377c",
       "style": "IPY_MODEL_7d8b652c0032498e82da6687a96950b5",
       "tooltips": []
      }
     },
     "1d592dfc3a08443e99cdf86955e67d96": {
      "model_module": "@jupyter-widgets/base",
      "model_module_version": "2.0.0",
      "model_name": "LayoutModel",
      "state": {}
     },
     "2188917c2a5d4965bc86433cb950c18e": {
      "model_module": "@jupyter-widgets/controls",
      "model_module_version": "2.0.0",
      "model_name": "SliderStyleModel",
      "state": {
       "description_width": ""
      }
     },
     "2289c4782f704673bcf5eb632a7c76ca": {
      "model_module": "@jupyter-widgets/base",
      "model_module_version": "2.0.0",
      "model_name": "LayoutModel",
      "state": {}
     },
     "232d1b4f493a4060b6724fbc4af5a2c4": {
      "model_module": "@jupyter-widgets/controls",
      "model_module_version": "2.0.0",
      "model_name": "ToggleButtonsStyleModel",
      "state": {
       "button_width": "",
       "description_width": ""
      }
     },
     "242d128bccc3432293e4db17e9f01b3f": {
      "model_module": "@jupyter-widgets/controls",
      "model_module_version": "2.0.0",
      "model_name": "SliderStyleModel",
      "state": {
       "description_width": ""
      }
     },
     "25a9b811c89c418c96a47819b1ed493c": {
      "model_module": "@jupyter-widgets/controls",
      "model_module_version": "2.0.0",
      "model_name": "FloatSliderModel",
      "state": {
       "behavior": "drag-tap",
       "description": "theta_y",
       "layout": "IPY_MODEL_2c175b57d6ab45beaacba6a2c54d2688",
       "max": 6.283185307179586,
       "min": -6.283185307179586,
       "step": 0.01,
       "style": "IPY_MODEL_8b399c9db4d347d291ad43b9fcb968ef",
       "value": -0.0031853071795859833
      }
     },
     "265cb082d317450d8950bda043a21f75": {
      "model_module": "@jupyter-widgets/controls",
      "model_module_version": "2.0.0",
      "model_name": "FloatSliderModel",
      "state": {
       "behavior": "drag-tap",
       "description": "theta_z",
       "layout": "IPY_MODEL_6c6ef487255d4a5dbc89effc81a3ae4d",
       "max": 6.283185307179586,
       "min": -6.283185307179586,
       "step": 0.01,
       "style": "IPY_MODEL_fb186a3686af436b9b9912bf3f9bdce9",
       "value": -0.0031853071795859833
      }
     },
     "26bc33afca2d448091a6b2654b899b43": {
      "model_module": "@jupyter-widgets/base",
      "model_module_version": "2.0.0",
      "model_name": "LayoutModel",
      "state": {}
     },
     "2816309713164b5d9bea07c15945aa29": {
      "model_module": "@jupyter-widgets/base",
      "model_module_version": "2.0.0",
      "model_name": "LayoutModel",
      "state": {}
     },
     "2a5fd354f965438d82ea9a550bbf5311": {
      "model_module": "@jupyter-widgets/controls",
      "model_module_version": "2.0.0",
      "model_name": "SliderStyleModel",
      "state": {
       "description_width": ""
      }
     },
     "2a905e3963124f3c82cf929ff947940f": {
      "model_module": "@jupyter-widgets/output",
      "model_module_version": "1.0.0",
      "model_name": "OutputModel",
      "state": {
       "layout": "IPY_MODEL_1d592dfc3a08443e99cdf86955e67d96"
      }
     },
     "2c175b57d6ab45beaacba6a2c54d2688": {
      "model_module": "@jupyter-widgets/base",
      "model_module_version": "2.0.0",
      "model_name": "LayoutModel",
      "state": {}
     },
     "2d48143effa147448e879d9807f44865": {
      "model_module": "@jupyter-widgets/controls",
      "model_module_version": "2.0.0",
      "model_name": "ToggleButtonsModel",
      "state": {
       "_options_labels": [
        "x-z-y",
        "z-x-y",
        "y-z-x"
       ],
       "button_style": "",
       "description": "Transform:",
       "icons": [],
       "index": 0,
       "layout": "IPY_MODEL_4c939c5f48044175a5725626cf211cf3",
       "style": "IPY_MODEL_091c08bf9e4a4d7e9568ad843b6a963a",
       "tooltips": []
      }
     },
     "2e330f59461d4085b342cbc367a141e1": {
      "model_module": "@jupyter-widgets/base",
      "model_module_version": "2.0.0",
      "model_name": "LayoutModel",
      "state": {}
     },
     "2f882dd0653947adbff46ac90159535c": {
      "model_module": "@jupyter-widgets/controls",
      "model_module_version": "2.0.0",
      "model_name": "HTMLStyleModel",
      "state": {
       "description_width": "",
       "font_size": null,
       "text_color": null
      }
     },
     "300e85332ab441938496bbb68b0dbaca": {
      "model_module": "@jupyter-widgets/base",
      "model_module_version": "2.0.0",
      "model_name": "LayoutModel",
      "state": {}
     },
     "3097fbd2b26a4543b3b8268b21277b10": {
      "model_module": "@jupyter-widgets/controls",
      "model_module_version": "2.0.0",
      "model_name": "SliderStyleModel",
      "state": {
       "description_width": ""
      }
     },
     "34b39ac1f49e4185bfede34366d50b87": {
      "model_module": "@jupyter-widgets/controls",
      "model_module_version": "2.0.0",
      "model_name": "HTMLStyleModel",
      "state": {
       "description_width": "",
       "font_size": null,
       "text_color": null
      }
     },
     "35cd0ec620f048d88ea7510d0ad25ee2": {
      "model_module": "@jupyter-widgets/controls",
      "model_module_version": "2.0.0",
      "model_name": "SliderStyleModel",
      "state": {
       "description_width": ""
      }
     },
     "36e71883ebc2408297d500b3632da297": {
      "model_module": "@jupyter-widgets/controls",
      "model_module_version": "2.0.0",
      "model_name": "HTMLStyleModel",
      "state": {
       "description_width": "",
       "font_size": null,
       "text_color": null
      }
     },
     "3c3b57951a814a87a5b3e4f9b4493de5": {
      "model_module": "@jupyter-widgets/controls",
      "model_module_version": "2.0.0",
      "model_name": "SliderStyleModel",
      "state": {
       "description_width": ""
      }
     },
     "3e37e8add4be4db296611a7459616c5a": {
      "model_module": "@jupyter-widgets/controls",
      "model_module_version": "2.0.0",
      "model_name": "SliderStyleModel",
      "state": {
       "description_width": ""
      }
     },
     "41cb2874d24c4e46a1004762cb99e576": {
      "model_module": "@jupyter-widgets/controls",
      "model_module_version": "2.0.0",
      "model_name": "FloatSliderModel",
      "state": {
       "behavior": "drag-tap",
       "description": "d_y",
       "layout": "IPY_MODEL_b08a087ccea2406a9f9730a1f9cd7ee3",
       "max": 2,
       "min": -2,
       "step": 0.01,
       "style": "IPY_MODEL_a2ad23863ebc4c4782a89585918b6c14"
      }
     },
     "425bbf2bb37e4a57bcf74e9e0e64ff3c": {
      "model_module": "@jupyter-widgets/base",
      "model_module_version": "2.0.0",
      "model_name": "LayoutModel",
      "state": {}
     },
     "4749a6da8eb4455da3b98b32b2a49a47": {
      "model_module": "@jupyter-widgets/controls",
      "model_module_version": "2.0.0",
      "model_name": "FloatSliderModel",
      "state": {
       "behavior": "drag-tap",
       "description": "theta_x",
       "layout": "IPY_MODEL_2289c4782f704673bcf5eb632a7c76ca",
       "max": 6.283185307179586,
       "min": -6.283185307179586,
       "step": 0.01,
       "style": "IPY_MODEL_61a5939a336342f4ace66b1fe25782df",
       "value": -0.0031853071795859833
      }
     },
     "47b8a4146f45483b88d042953f94ce32": {
      "model_module": "@jupyter-widgets/base",
      "model_module_version": "2.0.0",
      "model_name": "LayoutModel",
      "state": {}
     },
     "4c939c5f48044175a5725626cf211cf3": {
      "model_module": "@jupyter-widgets/base",
      "model_module_version": "2.0.0",
      "model_name": "LayoutModel",
      "state": {}
     },
     "4f58bfa9048b45d0856a49b7ebec5d1a": {
      "model_module": "@jupyter-widgets/controls",
      "model_module_version": "2.0.0",
      "model_name": "HTMLStyleModel",
      "state": {
       "description_width": "",
       "font_size": null,
       "text_color": null
      }
     },
     "5235adaf5ca0411e949e4d886178c01b": {
      "model_module": "@jupyter-widgets/base",
      "model_module_version": "2.0.0",
      "model_name": "LayoutModel",
      "state": {}
     },
     "5264fa69996441c8a5cd20fc87231227": {
      "model_module": "@jupyter-widgets/controls",
      "model_module_version": "2.0.0",
      "model_name": "FloatSliderModel",
      "state": {
       "behavior": "drag-tap",
       "description": "theta_y",
       "layout": "IPY_MODEL_f9b12dbe0203482a97792f72f4c57d35",
       "max": 6.283185307179586,
       "min": -6.283185307179586,
       "step": 0.01,
       "style": "IPY_MODEL_c83515363b194742ae2e84bac5845cc5",
       "value": -0.0031853071795859833
      }
     },
     "57125990a07541fb967d813d7da94cd1": {
      "model_module": "@jupyter-widgets/controls",
      "model_module_version": "2.0.0",
      "model_name": "FloatSliderModel",
      "state": {
       "behavior": "drag-tap",
       "description": "theta_x",
       "layout": "IPY_MODEL_74ed518fe5a045d098ac91cb0221091f",
       "max": 6.283185307179586,
       "min": -6.283185307179586,
       "step": 0.01,
       "style": "IPY_MODEL_3c3b57951a814a87a5b3e4f9b4493de5",
       "value": -0.0031853071795859833
      }
     },
     "5767ee9803264c79a928bb3d19fd9c9a": {
      "model_module": "@jupyter-widgets/controls",
      "model_module_version": "2.0.0",
      "model_name": "FloatSliderModel",
      "state": {
       "behavior": "drag-tap",
       "description": "theta_z",
       "layout": "IPY_MODEL_47b8a4146f45483b88d042953f94ce32",
       "max": 6.283185307179586,
       "min": -6.283185307179586,
       "step": 0.01,
       "style": "IPY_MODEL_81fa80b364194e059fb1dcf6e7b880d7",
       "value": -0.0031853071795859833
      }
     },
     "5b4e77f7c34c4fcdbd0475870a71ac74": {
      "model_module": "@jupyter-widgets/base",
      "model_module_version": "2.0.0",
      "model_name": "LayoutModel",
      "state": {}
     },
     "608d7bbcb0a144b19a7ef6a90df2d52e": {
      "model_module": "@jupyter-widgets/output",
      "model_module_version": "1.0.0",
      "model_name": "OutputModel",
      "state": {
       "layout": "IPY_MODEL_12fddf508e8341d89abe1fed1d81410e"
      }
     },
     "61a5939a336342f4ace66b1fe25782df": {
      "model_module": "@jupyter-widgets/controls",
      "model_module_version": "2.0.0",
      "model_name": "SliderStyleModel",
      "state": {
       "description_width": ""
      }
     },
     "63ce8c4220e247c49e3562fcb3853af1": {
      "model_module": "@jupyter-widgets/controls",
      "model_module_version": "2.0.0",
      "model_name": "FloatSliderModel",
      "state": {
       "behavior": "drag-tap",
       "description": "d_y",
       "layout": "IPY_MODEL_a8b3669f3f684473bd3a863cc0dc8216",
       "max": 2,
       "min": -2,
       "step": 0.01,
       "style": "IPY_MODEL_3097fbd2b26a4543b3b8268b21277b10"
      }
     },
     "67bb48f1a9ff447aa3fd72ba5861b304": {
      "model_module": "@jupyter-widgets/base",
      "model_module_version": "2.0.0",
      "model_name": "LayoutModel",
      "state": {}
     },
     "6888018a048e4f28ba9222439409c7c4": {
      "model_module": "@jupyter-widgets/controls",
      "model_module_version": "2.0.0",
      "model_name": "ToggleButtonsStyleModel",
      "state": {
       "button_width": "",
       "description_width": ""
      }
     },
     "69efbb1fa6d44f00a8d9ac40839088a6": {
      "model_module": "@jupyter-widgets/output",
      "model_module_version": "1.0.0",
      "model_name": "OutputModel",
      "state": {
       "layout": "IPY_MODEL_300e85332ab441938496bbb68b0dbaca"
      }
     },
     "6b333ff3f1cd4d8c817317836240d31b": {
      "model_module": "@jupyter-widgets/base",
      "model_module_version": "2.0.0",
      "model_name": "LayoutModel",
      "state": {}
     },
     "6c6ef487255d4a5dbc89effc81a3ae4d": {
      "model_module": "@jupyter-widgets/base",
      "model_module_version": "2.0.0",
      "model_name": "LayoutModel",
      "state": {}
     },
     "6c9eb5ff60644d02881e9bc667f67fa1": {
      "model_module": "@jupyter-widgets/base",
      "model_module_version": "2.0.0",
      "model_name": "LayoutModel",
      "state": {}
     },
     "6e25051892ca40b4b9ec6970da01a59b": {
      "model_module": "@jupyter-widgets/controls",
      "model_module_version": "2.0.0",
      "model_name": "FloatSliderModel",
      "state": {
       "behavior": "drag-tap",
       "description": "theta_y",
       "layout": "IPY_MODEL_c66d2b680e5b427b969f66449746db69",
       "max": 6.283185307179586,
       "min": -6.283185307179586,
       "step": 0.01,
       "style": "IPY_MODEL_9354a20b894f48088d2ee8c1a35b47c9",
       "value": -0.0031853071795859833
      }
     },
     "74ed518fe5a045d098ac91cb0221091f": {
      "model_module": "@jupyter-widgets/base",
      "model_module_version": "2.0.0",
      "model_name": "LayoutModel",
      "state": {}
     },
     "759ff3b134cb45b49beaef284050d15b": {
      "model_module": "@jupyter-widgets/base",
      "model_module_version": "2.0.0",
      "model_name": "LayoutModel",
      "state": {}
     },
     "76661a0a9f5f4173b20865cfc48beb99": {
      "model_module": "@jupyter-widgets/controls",
      "model_module_version": "2.0.0",
      "model_name": "FloatSliderModel",
      "state": {
       "behavior": "drag-tap",
       "description": "d_x",
       "layout": "IPY_MODEL_02bde9b826f04943950c91d7ecbdbbc9",
       "max": 2,
       "min": -2,
       "step": 0.01,
       "style": "IPY_MODEL_94190dbe9dfe424299f09ecdf136471b"
      }
     },
     "7d8b652c0032498e82da6687a96950b5": {
      "model_module": "@jupyter-widgets/controls",
      "model_module_version": "2.0.0",
      "model_name": "ToggleButtonsStyleModel",
      "state": {
       "button_width": "",
       "description_width": ""
      }
     },
     "80619a51d6bd4ce2ab65b73c319e427a": {
      "model_module": "@jupyter-widgets/base",
      "model_module_version": "2.0.0",
      "model_name": "LayoutModel",
      "state": {}
     },
     "81fa80b364194e059fb1dcf6e7b880d7": {
      "model_module": "@jupyter-widgets/controls",
      "model_module_version": "2.0.0",
      "model_name": "SliderStyleModel",
      "state": {
       "description_width": ""
      }
     },
     "835ab48d2e76440eb774a07619fa9b23": {
      "model_module": "@jupyter-widgets/base",
      "model_module_version": "2.0.0",
      "model_name": "LayoutModel",
      "state": {}
     },
     "84a7aadb3fbe44a9ab385a443c13b9e2": {
      "model_module": "@jupyter-widgets/controls",
      "model_module_version": "2.0.0",
      "model_name": "ToggleButtonsModel",
      "state": {
       "_options_labels": [
        "x-z-y",
        "z-x-y",
        "y-z-x"
       ],
       "button_style": "",
       "description": "Transform:",
       "icons": [],
       "index": 0,
       "layout": "IPY_MODEL_be1f910acf204c17bfdb2160d73621fb",
       "style": "IPY_MODEL_232d1b4f493a4060b6724fbc4af5a2c4",
       "tooltips": []
      }
     },
     "88bfb4d223cf4aaeafa61276b8c2d6e9": {
      "model_module": "@jupyter-widgets/controls",
      "model_module_version": "2.0.0",
      "model_name": "FloatSliderModel",
      "state": {
       "behavior": "drag-tap",
       "description": "theta_z",
       "layout": "IPY_MODEL_2816309713164b5d9bea07c15945aa29",
       "max": 6.283185307179586,
       "min": -6.283185307179586,
       "step": 0.01,
       "style": "IPY_MODEL_910c6691b46141d686880877af97e53a",
       "value": -0.0031853071795859833
      }
     },
     "8b399c9db4d347d291ad43b9fcb968ef": {
      "model_module": "@jupyter-widgets/controls",
      "model_module_version": "2.0.0",
      "model_name": "SliderStyleModel",
      "state": {
       "description_width": ""
      }
     },
     "8c79873d4804488ca0c7be2fcf197d34": {
      "model_module": "@jupyter-widgets/base",
      "model_module_version": "2.0.0",
      "model_name": "LayoutModel",
      "state": {}
     },
     "8e5c43da7bfe4d35a0ea243b57651d27": {
      "model_module": "@jupyter-widgets/controls",
      "model_module_version": "2.0.0",
      "model_name": "FloatSliderModel",
      "state": {
       "behavior": "drag-tap",
       "description": "theta_y",
       "layout": "IPY_MODEL_6c9eb5ff60644d02881e9bc667f67fa1",
       "max": 6.283185307179586,
       "min": -6.283185307179586,
       "step": 0.01,
       "style": "IPY_MODEL_2a5fd354f965438d82ea9a550bbf5311",
       "value": -0.0031853071795859833
      }
     },
     "8e71f385aa2a484c8939469818dff959": {
      "model_module": "@jupyter-widgets/output",
      "model_module_version": "1.0.0",
      "model_name": "OutputModel",
      "state": {
       "layout": "IPY_MODEL_e0ad5285837f4cd29663887b953abce4"
      }
     },
     "910c6691b46141d686880877af97e53a": {
      "model_module": "@jupyter-widgets/controls",
      "model_module_version": "2.0.0",
      "model_name": "SliderStyleModel",
      "state": {
       "description_width": ""
      }
     },
     "9354a20b894f48088d2ee8c1a35b47c9": {
      "model_module": "@jupyter-widgets/controls",
      "model_module_version": "2.0.0",
      "model_name": "SliderStyleModel",
      "state": {
       "description_width": ""
      }
     },
     "94190dbe9dfe424299f09ecdf136471b": {
      "model_module": "@jupyter-widgets/controls",
      "model_module_version": "2.0.0",
      "model_name": "SliderStyleModel",
      "state": {
       "description_width": ""
      }
     },
     "94bcc8e6022c4eab89725005eb43177f": {
      "model_module": "@jupyter-widgets/base",
      "model_module_version": "2.0.0",
      "model_name": "LayoutModel",
      "state": {}
     },
     "97e0a30c4cee49e7ab4a8d961185377c": {
      "model_module": "@jupyter-widgets/base",
      "model_module_version": "2.0.0",
      "model_name": "LayoutModel",
      "state": {}
     },
     "9b145941c5f444fa8a6b7b26a0c6dc9e": {
      "model_module": "@jupyter-widgets/base",
      "model_module_version": "2.0.0",
      "model_name": "LayoutModel",
      "state": {}
     },
     "9be3c743dfb149afb6d796f83391895c": {
      "model_module": "@jupyter-widgets/controls",
      "model_module_version": "2.0.0",
      "model_name": "HTMLStyleModel",
      "state": {
       "description_width": "",
       "font_size": null,
       "text_color": null
      }
     },
     "a058f183432d41f7994a961be6f58650": {
      "model_module": "@jupyter-widgets/controls",
      "model_module_version": "2.0.0",
      "model_name": "HTMLStyleModel",
      "state": {
       "description_width": "",
       "font_size": null,
       "text_color": null
      }
     },
     "a2ad23863ebc4c4782a89585918b6c14": {
      "model_module": "@jupyter-widgets/controls",
      "model_module_version": "2.0.0",
      "model_name": "SliderStyleModel",
      "state": {
       "description_width": ""
      }
     },
     "a8b3669f3f684473bd3a863cc0dc8216": {
      "model_module": "@jupyter-widgets/base",
      "model_module_version": "2.0.0",
      "model_name": "LayoutModel",
      "state": {}
     },
     "a9b5fb21676a4c87a557f75534404a07": {
      "model_module": "@jupyter-widgets/controls",
      "model_module_version": "2.0.0",
      "model_name": "HTMLModel",
      "state": {
       "layout": "IPY_MODEL_6b333ff3f1cd4d8c817317836240d31b",
       "style": "IPY_MODEL_2f882dd0653947adbff46ac90159535c",
       "value": "\n                <div style=\"height: 400px; width: 100%; overflow-x: auto; overflow-y: hidden; resize: both\">\n                <iframe src=\"http://10.168.151.13:7001/static/\" style=\"width: 100%; height: 100%; border: none\"></iframe>\n                </div>\n                "
      }
     },
     "ab1169bf635945b1bad3d286f22c6536": {
      "model_module": "@jupyter-widgets/controls",
      "model_module_version": "2.0.0",
      "model_name": "FloatSliderModel",
      "state": {
       "behavior": "drag-tap",
       "description": "Theta",
       "layout": "IPY_MODEL_835ab48d2e76440eb774a07619fa9b23",
       "max": 6.283185307179586,
       "min": -6.283185307179586,
       "step": 0.01,
       "style": "IPY_MODEL_35cd0ec620f048d88ea7510d0ad25ee2",
       "value": -0.0031853071795859833
      }
     },
     "ab679a5a98cd44ef83ca3f90ec5158a7": {
      "model_module": "@jupyter-widgets/output",
      "model_module_version": "1.0.0",
      "model_name": "OutputModel",
      "state": {
       "layout": "IPY_MODEL_67bb48f1a9ff447aa3fd72ba5861b304"
      }
     },
     "ac4ba8dc60ac4bc3a7ec7c06ddb85b41": {
      "model_module": "@jupyter-widgets/controls",
      "model_module_version": "2.0.0",
      "model_name": "FloatSliderModel",
      "state": {
       "behavior": "drag-tap",
       "description": "theta_x",
       "layout": "IPY_MODEL_19daa8565b27463892a982d07117d17b",
       "max": 6.283185307179586,
       "min": -6.283185307179586,
       "step": 0.01,
       "style": "IPY_MODEL_3e37e8add4be4db296611a7459616c5a",
       "value": -0.0031853071795859833
      }
     },
     "ae114ded54b84a59bea3a62d236ce7f1": {
      "model_module": "@jupyter-widgets/controls",
      "model_module_version": "2.0.0",
      "model_name": "FloatSliderModel",
      "state": {
       "behavior": "drag-tap",
       "description": "theta_z",
       "layout": "IPY_MODEL_ca09fa5a67c04313aa5bd353d74483bd",
       "max": 6.283185307179586,
       "min": -6.283185307179586,
       "step": 0.01,
       "style": "IPY_MODEL_b6c3cf922390456ab3d421f7f69d8f0f",
       "value": -0.0031853071795859833
      }
     },
     "b08a087ccea2406a9f9730a1f9cd7ee3": {
      "model_module": "@jupyter-widgets/base",
      "model_module_version": "2.0.0",
      "model_name": "LayoutModel",
      "state": {}
     },
     "b0b71518b6804163bd3c46227120bf5b": {
      "model_module": "@jupyter-widgets/base",
      "model_module_version": "2.0.0",
      "model_name": "LayoutModel",
      "state": {}
     },
     "b1e42b0983014de0b02ddbf3e428ab50": {
      "model_module": "@jupyter-widgets/base",
      "model_module_version": "2.0.0",
      "model_name": "LayoutModel",
      "state": {}
     },
     "b33d727b4ad9434fbf6bcd06b7593183": {
      "model_module": "@jupyter-widgets/controls",
      "model_module_version": "2.0.0",
      "model_name": "SliderStyleModel",
      "state": {
       "description_width": ""
      }
     },
     "b6c3cf922390456ab3d421f7f69d8f0f": {
      "model_module": "@jupyter-widgets/controls",
      "model_module_version": "2.0.0",
      "model_name": "SliderStyleModel",
      "state": {
       "description_width": ""
      }
     },
     "b7f40bb4deb2482781991700c06bf0ff": {
      "model_module": "@jupyter-widgets/output",
      "model_module_version": "1.0.0",
      "model_name": "OutputModel",
      "state": {
       "layout": "IPY_MODEL_26bc33afca2d448091a6b2654b899b43"
      }
     },
     "be1f910acf204c17bfdb2160d73621fb": {
      "model_module": "@jupyter-widgets/base",
      "model_module_version": "2.0.0",
      "model_name": "LayoutModel",
      "state": {}
     },
     "bf34afb2c0bd4f23832fb603bf4d9a94": {
      "model_module": "@jupyter-widgets/output",
      "model_module_version": "1.0.0",
      "model_name": "OutputModel",
      "state": {
       "layout": "IPY_MODEL_5b4e77f7c34c4fcdbd0475870a71ac74"
      }
     },
     "c09f3d21cd45481f858149839c66ebe4": {
      "model_module": "@jupyter-widgets/controls",
      "model_module_version": "2.0.0",
      "model_name": "IntSliderModel",
      "state": {
       "behavior": "drag-tap",
       "continuous_update": false,
       "description": "Omega",
       "layout": "IPY_MODEL_759ff3b134cb45b49beaef284050d15b",
       "max": 10,
       "style": "IPY_MODEL_ec53771f4b394dc395147c0fe19125e9",
       "value": 3
      }
     },
     "c1bba8b6ac0e4ba5a94e5747f6b414bb": {
      "model_module": "@jupyter-widgets/base",
      "model_module_version": "2.0.0",
      "model_name": "LayoutModel",
      "state": {}
     },
     "c38da2321b634556b9d06abf6e658038": {
      "model_module": "@jupyter-widgets/output",
      "model_module_version": "1.0.0",
      "model_name": "OutputModel",
      "state": {
       "layout": "IPY_MODEL_dbb718ed01724669b4b6fca7067fc1a7"
      }
     },
     "c5052bdc0a5f4c5b88ab5b57c3db422b": {
      "model_module": "@jupyter-widgets/controls",
      "model_module_version": "2.0.0",
      "model_name": "FloatSliderModel",
      "state": {
       "behavior": "drag-tap",
       "description": "d_z",
       "layout": "IPY_MODEL_425bbf2bb37e4a57bcf74e9e0e64ff3c",
       "max": 2,
       "min": -2,
       "step": 0.01,
       "style": "IPY_MODEL_f272f5c15e854448aee1f3ac03a69e67"
      }
     },
     "c66d2b680e5b427b969f66449746db69": {
      "model_module": "@jupyter-widgets/base",
      "model_module_version": "2.0.0",
      "model_name": "LayoutModel",
      "state": {}
     },
     "c83515363b194742ae2e84bac5845cc5": {
      "model_module": "@jupyter-widgets/controls",
      "model_module_version": "2.0.0",
      "model_name": "SliderStyleModel",
      "state": {
       "description_width": ""
      }
     },
     "c857ca1769494da3962d29565b4a0243": {
      "model_module": "@jupyter-widgets/controls",
      "model_module_version": "2.0.0",
      "model_name": "HTMLStyleModel",
      "state": {
       "description_width": "",
       "font_size": null,
       "text_color": null
      }
     },
     "ca09fa5a67c04313aa5bd353d74483bd": {
      "model_module": "@jupyter-widgets/base",
      "model_module_version": "2.0.0",
      "model_name": "LayoutModel",
      "state": {}
     },
     "cdd351684c0a4f2b85eb86b9dee44e02": {
      "model_module": "@jupyter-widgets/base",
      "model_module_version": "2.0.0",
      "model_name": "LayoutModel",
      "state": {}
     },
     "d3a89c4efbcf4680a9b336e327558904": {
      "model_module": "@jupyter-widgets/controls",
      "model_module_version": "2.0.0",
      "model_name": "HTMLStyleModel",
      "state": {
       "description_width": "",
       "font_size": null,
       "text_color": null
      }
     },
     "d506a9d3c8674eab8f13eae52abf5e83": {
      "model_module": "@jupyter-widgets/base",
      "model_module_version": "2.0.0",
      "model_name": "LayoutModel",
      "state": {}
     },
     "dbb718ed01724669b4b6fca7067fc1a7": {
      "model_module": "@jupyter-widgets/base",
      "model_module_version": "2.0.0",
      "model_name": "LayoutModel",
      "state": {}
     },
     "dcf54a513118425291ff86df2657763e": {
      "model_module": "@jupyter-widgets/controls",
      "model_module_version": "2.0.0",
      "model_name": "SliderStyleModel",
      "state": {
       "description_width": ""
      }
     },
     "de2e36b7973d49e498ae4ec5f5a4f107": {
      "model_module": "@jupyter-widgets/controls",
      "model_module_version": "2.0.0",
      "model_name": "HTMLStyleModel",
      "state": {
       "description_width": "",
       "font_size": null,
       "text_color": null
      }
     },
     "e0ad5285837f4cd29663887b953abce4": {
      "model_module": "@jupyter-widgets/base",
      "model_module_version": "2.0.0",
      "model_name": "LayoutModel",
      "state": {}
     },
     "e6a9f4e046ba4c4f8d25faf781dc66ac": {
      "model_module": "@jupyter-widgets/controls",
      "model_module_version": "2.0.0",
      "model_name": "FloatSliderModel",
      "state": {
       "behavior": "drag-tap",
       "description": "d_z",
       "layout": "IPY_MODEL_9b145941c5f444fa8a6b7b26a0c6dc9e",
       "max": 2,
       "min": -2,
       "step": 0.01,
       "style": "IPY_MODEL_2188917c2a5d4965bc86433cb950c18e"
      }
     },
     "ea9dd145f2dd45b2937f1007db768aa6": {
      "model_module": "@jupyter-widgets/controls",
      "model_module_version": "2.0.0",
      "model_name": "FloatSliderModel",
      "state": {
       "behavior": "drag-tap",
       "description": "Theta",
       "layout": "IPY_MODEL_b0b71518b6804163bd3c46227120bf5b",
       "max": 6.283185307179586,
       "min": -6.283185307179586,
       "step": 0.01,
       "style": "IPY_MODEL_edbf20b554504d7395929cd2ac68d445",
       "value": 4.256814692820413
      }
     },
     "ec53771f4b394dc395147c0fe19125e9": {
      "model_module": "@jupyter-widgets/controls",
      "model_module_version": "2.0.0",
      "model_name": "SliderStyleModel",
      "state": {
       "description_width": ""
      }
     },
     "edbf20b554504d7395929cd2ac68d445": {
      "model_module": "@jupyter-widgets/controls",
      "model_module_version": "2.0.0",
      "model_name": "SliderStyleModel",
      "state": {
       "description_width": ""
      }
     },
     "ee885792c7ea4eb59d1bcca99f9b0f85": {
      "model_module": "@jupyter-widgets/output",
      "model_module_version": "1.0.0",
      "model_name": "OutputModel",
      "state": {
       "layout": "IPY_MODEL_8c79873d4804488ca0c7be2fcf197d34"
      }
     },
     "f0660a8cb9de4b78b6d78ece99a42177": {
      "model_module": "@jupyter-widgets/controls",
      "model_module_version": "2.0.0",
      "model_name": "FloatSliderModel",
      "state": {
       "behavior": "drag-tap",
       "description": "d_x",
       "layout": "IPY_MODEL_80619a51d6bd4ce2ab65b73c319e427a",
       "max": 2,
       "min": -2,
       "step": 0.01,
       "style": "IPY_MODEL_b33d727b4ad9434fbf6bcd06b7593183"
      }
     },
     "f272f5c15e854448aee1f3ac03a69e67": {
      "model_module": "@jupyter-widgets/controls",
      "model_module_version": "2.0.0",
      "model_name": "SliderStyleModel",
      "state": {
       "description_width": ""
      }
     },
     "f8558f85544d41f183bd3b8483cdcd5c": {
      "model_module": "@jupyter-widgets/controls",
      "model_module_version": "2.0.0",
      "model_name": "IntSliderModel",
      "state": {
       "behavior": "drag-tap",
       "continuous_update": false,
       "description": "Omega",
       "layout": "IPY_MODEL_2e330f59461d4085b342cbc367a141e1",
       "max": 10,
       "style": "IPY_MODEL_fabfe7ea20e549cfb4bdec5eb9da4c49"
      }
     },
     "f9b12dbe0203482a97792f72f4c57d35": {
      "model_module": "@jupyter-widgets/base",
      "model_module_version": "2.0.0",
      "model_name": "LayoutModel",
      "state": {}
     },
     "fabfe7ea20e549cfb4bdec5eb9da4c49": {
      "model_module": "@jupyter-widgets/controls",
      "model_module_version": "2.0.0",
      "model_name": "SliderStyleModel",
      "state": {
       "description_width": ""
      }
     },
     "fb186a3686af436b9b9912bf3f9bdce9": {
      "model_module": "@jupyter-widgets/controls",
      "model_module_version": "2.0.0",
      "model_name": "SliderStyleModel",
      "state": {
       "description_width": ""
      }
     },
     "fb8a49547b794adebc157df838b3c125": {
      "model_module": "@jupyter-widgets/base",
      "model_module_version": "2.0.0",
      "model_name": "LayoutModel",
      "state": {}
     }
    },
    "version_major": 2,
    "version_minor": 0
   }
  }
 },
 "nbformat": 4,
 "nbformat_minor": 4
}
